{
 "cells": [
  {
   "cell_type": "markdown",
   "id": "5b06ff733caaca1",
   "metadata": {},
   "source": [
    "# Pronunciation Analysis and Improvements\n",
    "\n",
    "In this notebook, we analyze the goodness of pronunciation using advanced algorithms and tools. Building on the existing notebook, we introduce new phoneme-level evaluation techniques that provide detailed insights into pronunciation. The key improvements include:\n",
    "- Phoneme-level goodness measurement using advanced scoring methods.\n",
    "- Visualization tools for feedback, such as heatmaps and color-coded results.\n",
    "- Enhanced metrics for assessing pronunciation accuracy interactively.\n",
    "\n",
    "The aim is to help users better understand their pronunciation strengths and weaknesses, providing targeted feedback for improvement."
   ]
  },
  {
   "cell_type": "code",
   "execution_count": 11,
   "id": "9d3ba4079a01d821",
   "metadata": {
    "ExecuteTime": {
     "end_time": "2025-02-05T10:42:55.405220Z",
     "start_time": "2025-02-05T10:42:55.400952Z"
    }
   },
   "outputs": [],
   "source": [
    "# !pip install montreal-forced-aligner sounddevice numpy wave\n",
    "# !mfa model download acoustic english_mfa\n",
    "# !mfa model download dictionary english_mfa\n",
    "# !mfa model download g2p english_us_mfa"
   ]
  },
  {
   "cell_type": "code",
   "execution_count": 1,
   "id": "815ef7dfba6dda37",
   "metadata": {
    "ExecuteTime": {
     "end_time": "2025-02-05T16:45:25.967401Z",
     "start_time": "2025-02-05T16:45:20.477762Z"
    }
   },
   "outputs": [
    {
     "name": "stdout",
     "output_type": "stream",
     "text": [
      "Recording for 5 seconds...\n",
      "Saved recording to recordings\\test_recording.wav\n"
     ]
    }
   ],
   "source": [
    "import sounddevice as sd\n",
    "import numpy as np\n",
    "import wave\n",
    "import os\n",
    "\n",
    "# Directory to save recordings\n",
    "recording_dir = \"recordings\"\n",
    "os.makedirs(recording_dir, exist_ok=True)\n",
    "\n",
    "def record_audio(filename=\"test_recording.wav\", duration=5, samplerate=16000):\n",
    "    print(f\"Recording for {duration} seconds...\")\n",
    "    audio = sd.rec(int(samplerate * duration), samplerate=samplerate, channels=1, dtype=np.int16)\n",
    "    sd.wait()\n",
    "    filepath = os.path.join(recording_dir, filename)\n",
    "\n",
    "    # Save as WAV\n",
    "    with wave.open(filepath, \"wb\") as wf:\n",
    "        wf.setnchannels(1)\n",
    "        wf.setsampwidth(2)\n",
    "        wf.setframerate(samplerate)\n",
    "        wf.writeframes(audio.tobytes())\n",
    "\n",
    "    print(f\"Saved recording to {filepath}\")\n",
    "    return filepath\n",
    "\n",
    "# Record audio\n",
    "audio_file = record_audio(\"test_recording.wav\", duration=5)\n",
    "# Manually input transcript for alignment\n",
    "transcript = \"Hey Good Morning\""
   ]
  },
  {
   "cell_type": "code",
   "execution_count": 2,
   "id": "dd4175ea2c6b0332",
   "metadata": {
    "ExecuteTime": {
     "end_time": "2025-02-05T16:45:38.899691Z",
     "start_time": "2025-02-05T16:45:30.652720Z"
    }
   },
   "outputs": [
    {
     "name": "stdout",
     "output_type": "stream",
     "text": [
      "Transcript saved: recordings\\test_recording.txt\n",
      "Running Montreal Forced Aligner...\n",
      "Alignment complete! Results saved in: recordings\\aligned_output\n"
     ]
    }
   ],
   "source": [
    "import subprocess\n",
    "# Save transcript to a file in MFA format\n",
    "transcript_path = os.path.join(recording_dir, \"test_recording.txt\")\n",
    "with open(transcript_path, \"w\") as f:\n",
    "    f.write(f\"{transcript}\")\n",
    "\n",
    "print(f\"Transcript saved: {transcript_path}\")\n",
    "\n",
    "# Directory to store alignment results\n",
    "aligned_output_dir = os.path.join(recording_dir, \"aligned_output\")\n",
    "os.makedirs(aligned_output_dir, exist_ok=True)\n",
    "\n",
    "print(\"Running Montreal Forced Aligner...\")\n",
    "mfa_command = f\"mfa align {recording_dir} english_mfa english_mfa {aligned_output_dir} --output_format json\"\n",
    "subprocess.run(mfa_command, shell=True, check=True)\n",
    "\n",
    "print(\"Alignment complete! Results saved in:\", aligned_output_dir)\n"
   ]
  },
  {
   "cell_type": "code",
   "execution_count": 3,
   "id": "359b79a42f6a3e1c",
   "metadata": {
    "ExecuteTime": {
     "end_time": "2025-02-05T16:48:06.115058Z",
     "start_time": "2025-02-05T16:48:06.108425Z"
    }
   },
   "outputs": [
    {
     "name": "stdout",
     "output_type": "stream",
     "text": [
      "First entry in 'phones': [0.48, 3.77, 'spn']\n"
     ]
    }
   ],
   "source": [
    "import json\n",
    "# Load phoneme alignment results\n",
    "alignment_file = os.path.join(aligned_output_dir, \"test_recording.json\")\n",
    "with open(alignment_file, \"r\", encoding=\"utf-8\") as f:\n",
    "    alignment_data = json.load(f)\n",
    "\n",
    "# Print the first entry to understand its structure\n",
    "print(\"First entry in 'phones':\", alignment_data[\"tiers\"][\"phones\"][\"entries\"][0])\n"
   ]
  },
  {
   "cell_type": "code",
   "execution_count": 4,
   "id": "55cf1367aecc93e9",
   "metadata": {
    "ExecuteTime": {
     "end_time": "2025-02-05T16:48:07.686398Z",
     "start_time": "2025-02-05T16:48:07.680356Z"
    }
   },
   "outputs": [
    {
     "name": "stdout",
     "output_type": "stream",
     "text": [
      "Keys in 'tiers': dict_keys(['words', 'phones'])\n"
     ]
    }
   ],
   "source": [
    "# Print the keys within the \"tiers\" key\n",
    "print(\"Keys in 'tiers':\", alignment_data[\"tiers\"].keys())"
   ]
  },
  {
   "cell_type": "code",
   "execution_count": 5,
   "id": "264aa9cc",
   "metadata": {
    "ExecuteTime": {
     "end_time": "2025-02-05T16:48:16.578723Z",
     "start_time": "2025-02-05T16:48:16.572833Z"
    }
   },
   "outputs": [
    {
     "name": "stdout",
     "output_type": "stream",
     "text": [
      "\n",
      "Phoneme Alignment Results:\n",
      "Phoneme: spn | Start: 0.48s | End: 3.77s\n",
      "Phoneme: h | Start: 4.1s | End: 4.13s\n",
      "Phoneme: ə | Start: 4.13s | End: 4.16s\n",
      "Phoneme: l | Start: 4.16s | End: 4.19s\n",
      "Phoneme: əw | Start: 4.19s | End: 4.26s\n",
      "Phoneme: ʋ | Start: 4.3s | End: 4.35s\n",
      "Phoneme: ɜː | Start: 4.35s | End: 4.38s\n",
      "Phoneme: l | Start: 4.38s | End: 4.46s\n",
      "Phoneme: ɖ | Start: 4.46s | End: 4.82s\n"
     ]
    }
   ],
   "source": [
    "# Load phoneme alignment results\n",
    "alignment_file = os.path.join(aligned_output_dir, \"test_recording.json\")\n",
    "with open(alignment_file, \"r\", encoding=\"utf-8\") as f:\n",
    "    alignment_data = json.load(f)\n",
    "\n",
    "# Print phoneme timings\n",
    "print(\"\\nPhoneme Alignment Results:\")\n",
    "for segment in alignment_data[\"tiers\"][\"phones\"][\"entries\"]:\n",
    "    print(f\"Phoneme: {segment[2]} | Start: {segment[0]}s | End: {segment[1]}s\")"
   ]
  },
  {
   "cell_type": "code",
   "execution_count": 6,
   "id": "c2403fac",
   "metadata": {
    "ExecuteTime": {
     "end_time": "2025-02-05T16:48:21.843712Z",
     "start_time": "2025-02-05T16:48:21.836066Z"
    }
   },
   "outputs": [
    {
     "data": {
      "text/plain": [
       "[[0.48, 3.77, 'spn'],\n",
       " [4.1, 4.13, 'h'],\n",
       " [4.13, 4.16, 'ə'],\n",
       " [4.16, 4.19, 'l'],\n",
       " [4.19, 4.26, 'əw'],\n",
       " [4.3, 4.35, 'ʋ'],\n",
       " [4.35, 4.38, 'ɜː'],\n",
       " [4.38, 4.46, 'l'],\n",
       " [4.46, 4.82, 'ɖ']]"
      ]
     },
     "execution_count": 6,
     "metadata": {},
     "output_type": "execute_result"
    }
   ],
   "source": [
    "alignment_data[\"tiers\"][\"phones\"][\"entries\"]"
   ]
  },
  {
   "cell_type": "code",
   "execution_count": 7,
   "id": "new-cell-id",
   "metadata": {
    "ExecuteTime": {
     "end_time": "2025-02-05T16:48:22.899617Z",
     "start_time": "2025-02-05T16:48:22.891396Z"
    }
   },
   "outputs": [
    {
     "name": "stdout",
     "output_type": "stream",
     "text": [
      "Pronunciation Report:\n",
      "Total Phonemes: 10\n",
      "Correct Phonemes: 0\n",
      "Accuracy: 0.00%\n",
      "User Phonemes: ['spn', 'h', 'ə', 'l', 'əw', 'ʋ', 'ɜː', 'l', 'ɖ']\n",
      "Expected Phonemes: ['h', 'eɪ', 'ɡ', 'ʊ', 'd', 'm', 'ɔr', 'n', 'ɪ', 'ŋ']\n"
     ]
    }
   ],
   "source": [
    "def compare_phonemes(alignment_data, expected_phonemes):\n",
    "    user_phonemes = [segment[2] for segment in alignment_data[\"tiers\"][\"phones\"][\"entries\"]]\n",
    "    total_phonemes = len(expected_phonemes)\n",
    "    correct_phonemes = sum(1 for i in range(min(len(user_phonemes), total_phonemes)) if user_phonemes[i] == expected_phonemes[i])\n",
    "    accuracy = correct_phonemes / total_phonemes * 100\n",
    "    \n",
    "    report = {\n",
    "        \"total_phonemes\": total_phonemes,\n",
    "        \"correct_phonemes\": correct_phonemes,\n",
    "        \"accuracy\": accuracy,\n",
    "        \"user_phonemes\": user_phonemes,\n",
    "        \"expected_phonemes\": expected_phonemes\n",
    "    }\n",
    "    return report\n",
    "\n",
    "# Example usage\n",
    "expected_phonemes = ['h', 'eɪ', 'ɡ', 'ʊ', 'd', 'm', 'ɔr', 'n', 'ɪ', 'ŋ'] # Expected phonemes for 'hey Good Morning'\n",
    "report = compare_phonemes(alignment_data, expected_phonemes)\n",
    "print(\"Pronunciation Report:\")\n",
    "print(f\"Total Phonemes: {report['total_phonemes']}\")\n",
    "print(f\"Correct Phonemes: {report['correct_phonemes']}\")\n",
    "print(f\"Accuracy: {report['accuracy']:.2f}%\")\n",
    "print(\"User Phonemes:\", report['user_phonemes'])\n",
    "print(\"Expected Phonemes:\", report['expected_phonemes'])"
   ]
  },
  {
   "cell_type": "code",
   "execution_count": null,
   "id": "aa704219",
   "metadata": {},
   "outputs": [],
   "source": []
  }
 ],
 "metadata": {
  "kernelspec": {
   "display_name": "mfa",
   "language": "python",
   "name": "python3"
  },
  "language_info": {
   "codemirror_mode": {
    "name": "ipython",
    "version": 3
   },
   "file_extension": ".py",
   "mimetype": "text/x-python",
   "name": "python",
   "nbconvert_exporter": "python",
   "pygments_lexer": "ipython3",
   "version": "3.11.11"
  }
 },
 "nbformat": 4,
 "nbformat_minor": 5
}
