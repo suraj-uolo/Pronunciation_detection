{
 "cells": [
  {
   "cell_type": "code",
   "id": "initial_id",
   "metadata": {
    "collapsed": true,
    "ExecuteTime": {
     "end_time": "2025-02-05T06:50:19.701812Z",
     "start_time": "2025-02-05T06:50:14.430202Z"
    }
   },
   "source": [
    "# First, install required packages\n",
    "!pip install SpeechRecognition\n",
    "!pip install pyaudio\n",
    "!pip install eng-to-ipa\n",
    "!pip install pandas"
   ],
   "outputs": [
    {
     "name": "stdout",
     "output_type": "stream",
     "text": [
      "Requirement already satisfied: SpeechRecognition in c:\\users\\suraj\\desktop\\pronunciation_detection\\.venv\\lib\\site-packages (3.14.1)\n",
      "Requirement already satisfied: typing-extensions in c:\\users\\suraj\\desktop\\pronunciation_detection\\.venv\\lib\\site-packages (from SpeechRecognition) (4.12.2)\n",
      "Requirement already satisfied: pyaudio in c:\\users\\suraj\\desktop\\pronunciation_detection\\.venv\\lib\\site-packages (0.2.14)\n",
      "Requirement already satisfied: eng-to-ipa in c:\\users\\suraj\\desktop\\pronunciation_detection\\.venv\\lib\\site-packages (0.0.2)\n",
      "Requirement already satisfied: pandas in c:\\users\\suraj\\desktop\\pronunciation_detection\\.venv\\lib\\site-packages (2.2.3)\n",
      "Requirement already satisfied: numpy>=1.26.0 in c:\\users\\suraj\\desktop\\pronunciation_detection\\.venv\\lib\\site-packages (from pandas) (2.2.2)\n",
      "Requirement already satisfied: python-dateutil>=2.8.2 in c:\\users\\suraj\\desktop\\pronunciation_detection\\.venv\\lib\\site-packages (from pandas) (2.9.0.post0)\n",
      "Requirement already satisfied: pytz>=2020.1 in c:\\users\\suraj\\desktop\\pronunciation_detection\\.venv\\lib\\site-packages (from pandas) (2025.1)\n",
      "Requirement already satisfied: tzdata>=2022.7 in c:\\users\\suraj\\desktop\\pronunciation_detection\\.venv\\lib\\site-packages (from pandas) (2025.1)\n",
      "Requirement already satisfied: six>=1.5 in c:\\users\\suraj\\desktop\\pronunciation_detection\\.venv\\lib\\site-packages (from python-dateutil>=2.8.2->pandas) (1.17.0)\n"
     ]
    }
   ],
   "execution_count": 9
  },
  {
   "metadata": {
    "ExecuteTime": {
     "end_time": "2025-02-05T06:51:01.056852Z",
     "start_time": "2025-02-05T06:51:01.046147Z"
    }
   },
   "cell_type": "code",
   "source": [
    "import speech_recognition as sr\n",
    "import eng_to_ipa\n",
    "import pandas as pd\n",
    "from datetime import datetime\n",
    "from IPython.display import HTML, display\n",
    "import warnings\n",
    "warnings.filterwarnings('ignore')\n",
    "\n",
    "class RealtimePhoneticAnalyzer:\n",
    "    def __init__(self):\n",
    "        self.recognizer = sr.Recognizer()\n",
    "        self.results = []\n",
    "\n",
    "    def record_audio(self, duration=5):\n",
    "        \"\"\"Record audio from microphone for specified duration\"\"\"\n",
    "        with sr.Microphone() as source:\n",
    "            print(f\"\\nAdjusting for ambient noise... Please wait...\")\n",
    "            self.recognizer.adjust_for_ambient_noise(source, duration=1)\n",
    "\n",
    "            print(f\"\\nRecording for {duration} seconds...\\n\")\n",
    "            audio = self.recognizer.listen(source, timeout=duration)\n",
    "            print(\"Recording complete!\\n\")\n",
    "\n",
    "            return audio\n",
    "\n",
    "    def get_ipa_pronunciation(self, text):\n",
    "        \"\"\"Convert text to IPA phonetic notation\"\"\"\n",
    "        try:\n",
    "            ipa = eng_to_ipa.convert(text)\n",
    "            return ipa if ipa != text else \"Conversion failed\"\n",
    "        except:\n",
    "            return \"IPA conversion failed\"\n",
    "\n",
    "    def get_phonemes(self, text):\n",
    "        \"\"\"Get individual phonemes\"\"\"\n",
    "        try:\n",
    "            return eng_to_ipa.separate_words(text)\n",
    "        except:\n",
    "            return \"Phoneme separation failed\"\n",
    "\n",
    "    def analyze_speech(self, duration=5):\n",
    "        \"\"\"Record and analyze speech\"\"\"\n",
    "        try:\n",
    "            # Record audio\n",
    "            audio = self.record_audio(duration)\n",
    "\n",
    "            # Convert speech to text\n",
    "            text = self.recognizer.recognize_google(audio)\n",
    "            print(f\"Recognized Text: {text}\\n\")\n",
    "\n",
    "            # Analyze each word\n",
    "            words = text.split()\n",
    "            timestamp = datetime.now().strftime('%Y-%m-%d %H:%M:%S')\n",
    "\n",
    "            for word in words:\n",
    "                analysis = {\n",
    "                    'Timestamp': timestamp,\n",
    "                    'Word': word,\n",
    "                    'IPA': self.get_ipa_pronunciation(word),\n",
    "                    'Phonemes': self.get_phonemes(word)\n",
    "                }\n",
    "                self.results.append(analysis)\n",
    "\n",
    "            # Display results\n",
    "            self.display_results()\n",
    "\n",
    "        except sr.UnknownValueError:\n",
    "            print(\"Could not understand the audio\")\n",
    "        except sr.RequestError as e:\n",
    "            print(f\"Error with the speech recognition service; {e}\")\n",
    "        except Exception as e:\n",
    "            print(f\"An error occurred: {e}\")\n",
    "\n",
    "    def display_results(self):\n",
    "        \"\"\"Display analysis results in a formatted table\"\"\"\n",
    "        df = pd.DataFrame(self.results)\n",
    "        display(HTML(df.to_html(index=False)))\n",
    "\n",
    "    def save_report(self, filename='phonetic_analysis_report.csv'):\n",
    "        \"\"\"Save analysis results to a CSV file\"\"\"\n",
    "        df = pd.DataFrame(self.results)\n",
    "        df.to_csv(filename, index=False)\n",
    "        print(f\"\\nReport saved as {filename}\")\n",
    "\n",
    "    def clear_results(self):\n",
    "        \"\"\"Clear previous results\"\"\"\n",
    "        self.results = []\n",
    "\n",
    "def record_and_analyze(duration=5):\n",
    "    \"\"\"Function to record and analyze speech\"\"\"\n",
    "    analyzer = RealtimePhoneticAnalyzer()\n",
    "    analyzer.analyze_speech(duration)\n",
    "    return analyzer\n",
    "\n",
    "def multiple_recordings(num_recordings=3, duration=5):\n",
    "    \"\"\"Function to make multiple recordings\"\"\"\n",
    "    analyzer = RealtimePhoneticAnalyzer()\n",
    "\n",
    "    for i in range(num_recordings):\n",
    "        print(f\"\\nRecording {i+1} of {num_recordings}\")\n",
    "        analyzer.analyze_speech(duration)\n",
    "\n",
    "    return analyzer"
   ],
   "id": "3c520177947a02ab",
   "outputs": [],
   "execution_count": 11
  },
  {
   "metadata": {
    "ExecuteTime": {
     "end_time": "2025-02-05T06:51:45.279904Z",
     "start_time": "2025-02-05T06:51:41.885061Z"
    }
   },
   "cell_type": "code",
   "source": [
    "# For a single 5-second recording:\n",
    "analyzer = record_and_analyze(duration=5)\n",
    "\n",
    "# OR for multiple recordings:\n",
    "# analyzer = multiple_recordings(num_recordings=3, duration=5)\n",
    "\n",
    "# To save the results:\n",
    "# analyzer.save_report('my_phonetic_analysis.csv')"
   ],
   "id": "18687a6f8fee3aed",
   "outputs": [
    {
     "name": "stdout",
     "output_type": "stream",
     "text": [
      "\n",
      "Adjusting for ambient noise... Please wait...\n",
      "\n",
      "Recording for 5 seconds...\n",
      "\n",
      "Recording complete!\n",
      "\n",
      "Recognized Text: hello how r u\n",
      "\n"
     ]
    },
    {
     "data": {
      "text/plain": [
       "<IPython.core.display.HTML object>"
      ],
      "text/html": [
       "<table border=\"1\" class=\"dataframe\">\n",
       "  <thead>\n",
       "    <tr style=\"text-align: right;\">\n",
       "      <th>Timestamp</th>\n",
       "      <th>Word</th>\n",
       "      <th>IPA</th>\n",
       "      <th>Phonemes</th>\n",
       "    </tr>\n",
       "  </thead>\n",
       "  <tbody>\n",
       "    <tr>\n",
       "      <td>2025-02-05 12:21:45</td>\n",
       "      <td>hello</td>\n",
       "      <td>hɛˈloʊ</td>\n",
       "      <td>Phoneme separation failed</td>\n",
       "    </tr>\n",
       "    <tr>\n",
       "      <td>2025-02-05 12:21:45</td>\n",
       "      <td>how</td>\n",
       "      <td>haʊ</td>\n",
       "      <td>Phoneme separation failed</td>\n",
       "    </tr>\n",
       "    <tr>\n",
       "      <td>2025-02-05 12:21:45</td>\n",
       "      <td>r</td>\n",
       "      <td>ɑr</td>\n",
       "      <td>Phoneme separation failed</td>\n",
       "    </tr>\n",
       "    <tr>\n",
       "      <td>2025-02-05 12:21:45</td>\n",
       "      <td>u</td>\n",
       "      <td>ju</td>\n",
       "      <td>Phoneme separation failed</td>\n",
       "    </tr>\n",
       "  </tbody>\n",
       "</table>"
      ]
     },
     "metadata": {},
     "output_type": "display_data"
    }
   ],
   "execution_count": 14
  },
  {
   "metadata": {},
   "cell_type": "code",
   "outputs": [],
   "execution_count": null,
   "source": "",
   "id": "ac042e012833e099"
  }
 ],
 "metadata": {
  "kernelspec": {
   "display_name": "Python 3",
   "language": "python",
   "name": "python3"
  },
  "language_info": {
   "codemirror_mode": {
    "name": "ipython",
    "version": 2
   },
   "file_extension": ".py",
   "mimetype": "text/x-python",
   "name": "python",
   "nbconvert_exporter": "python",
   "pygments_lexer": "ipython2",
   "version": "2.7.6"
  }
 },
 "nbformat": 4,
 "nbformat_minor": 5
}
